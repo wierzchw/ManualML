{
 "cells": [
  {
   "cell_type": "code",
   "execution_count": 164,
   "id": "d1b3a688",
   "metadata": {},
   "outputs": [],
   "source": [
    "import numpy as np\n",
    "import pandas as pd\n",
    "from tqdm import tqdm\n",
    "import matplotlib.pyplot as plt\n",
    "import networkx as nx\n",
    "from itertools import product"
   ]
  },
  {
   "cell_type": "code",
   "execution_count": 212,
   "id": "2733d940",
   "metadata": {},
   "outputs": [],
   "source": [
    "def sigmoid(x):\n",
    "\treturn 1/(1+np.e**(-x))\n",
    "\n",
    "def linear(x):\n",
    "\treturn x\n",
    "\n",
    "def tanh(x):\n",
    "\treturn (np.exp(x) - np.exp(-x)) / (np.exp(x) + np.exp(-x))\n",
    "\n",
    "def ReLU(x):\n",
    "\treturn np.maximum(0, x)\n",
    "\n",
    "class genetic_network():\n",
    "\tdef __init__(self, architecture, population_size, initiation_method):\n",
    "\t\tself.architecture = architecture\n",
    "\t\tself.layers_number = len(self.architecture) - 1\n",
    "\t\tself.population_size = population_size\n",
    "\t\tself.population = self.population_initiation(self.population_size, initiation_method)\n",
    "\n",
    "\tdef population_initiation(self, population_size, initiation_method):\n",
    "\t\tpopulation = [None] * population_size\n",
    "\n",
    "\t\tfor i in range(population_size):\n",
    "\t\t\tpopulation[i] = self.speciment_initiation(initiation_method)\n",
    "\n",
    "\t\treturn population\n",
    "\n",
    "\tdef speciment_initiation(self, initiation_method):\n",
    "\t\tweights = [None] * self.layers_number\n",
    "\t\tbiases = [None] * self.layers_number\n",
    "\n",
    "\t\tfor i in range(self.layers_number):\n",
    "\t\t\tinput_dim = self.architecture[i]\n",
    "\t\t\toutput_dim = self.architecture[i+1]\n",
    "\n",
    "\t\t\tif initiation_method == 'he':\n",
    "\t\t\t\tweights[i] = np.random.randn(input_dim, output_dim) * np.sqrt(2 / input_dim)\n",
    "\t\t\telif initiation_method == 'xavier':\n",
    "\t\t\t\tweights[i] = np.random.randn(input_dim, output_dim) * np.sqrt(1 / input_dim)\n",
    "\t\t\telif initiation_method == 'uniform':\n",
    "\t\t\t\tweights[i] = np.random.uniform(0, 1, (input_dim, output_dim))\n",
    "\t\t\tbiases[i] = np.zeros((1, output_dim))\n",
    "\n",
    "\t\treturn (weights, biases)\n",
    "\t\n",
    "\tdef evolve(self, X, Y, iterations_num, required_error, activation_function, mutation_step, mutation_prob, selection_type, elite_ratio=None, draft_size=None, show_progess=True):\n",
    "\t\terror_history = [None]*iterations_num\n",
    "\t\tbest_error = np.inf\n",
    "\n",
    "\t\tif show_progess:\n",
    "\t\t\tfor i in tqdm(range(iterations_num)):\n",
    "\t\t\t\terror = self.check_error(X, Y, activation_function)\n",
    "\t\t\t\terror_history[i] = np.min(error)\n",
    "\t\t\t\tif np.min(error) < best_error:\n",
    "\t\t\t\t\tbest_error = np.min(error)\n",
    "\t\t\t\t\tbest_speciment = self.population[np.argmin(error)]\n",
    "\t\t\t\t\tif best_error < required_error: \n",
    "\t\t\t\t\t\tprint('Osiągnięto błąd poniżej', required_error)\n",
    "\t\t\t\t\t\treturn error_history, best_speciment\n",
    "\t\t\t\t\t\n",
    "\t\t\t\tparents_A, parents_B = self.selection(error, selection_type, elite_ratio, draft_size)\n",
    "\n",
    "\t\t\t\tself.population = self.crossbreed(parents_A, parents_B)\n",
    "\n",
    "\t\t\t\tself.mutate(mutation_prob, mutation_step)\n",
    "\t\telse:\n",
    "\t\t\tfor i in range(iterations_num):\n",
    "\t\t\t\terror = self.check_error(X, Y, activation_function)\n",
    "\t\t\t\terror_history[i] = np.min(error)\n",
    "\t\t\t\tif np.min(error) < best_error:\n",
    "\t\t\t\t\tbest_error = np.min(error)\n",
    "\t\t\t\t\tbest_speciment = self.population[np.argmin(error)]\n",
    "\t\t\t\t\tif best_error < required_error: \n",
    "\t\t\t\t\t\tprint('Osiągnięto błąd poniżej', required_error)\n",
    "\t\t\t\t\t\treturn error_history, best_speciment\n",
    "\t\t\t\t\t\n",
    "\t\t\t\tparents_A, parents_B = self.selection(error, selection_type, elite_ratio, draft_size)\n",
    "\n",
    "\t\t\t\tself.population = self.crossbreed(parents_A, parents_B)\n",
    "\n",
    "\t\t\t\tself.mutate(mutation_prob, mutation_step)\n",
    "\n",
    "\t\treturn error_history, best_speciment\n",
    "\n",
    "\tdef check_error(self, X, Y, activation_function):\n",
    "\t\terror = np.empty(self.population_size)\n",
    "\n",
    "\t\tfor j in range(self.population_size):\n",
    "\t\t\tactivations = X\n",
    "\t\t\tweights = self.population[j][0]\n",
    "\t\t\tbiases = self.population[j][1]\n",
    "\n",
    "\t\t\tfor i in range(self.layers_number):\n",
    "\t\t\t\tpreactivations = np.dot(activations, weights[i]) + biases[i]\n",
    "\n",
    "\t\t\t\tif i < self.layers_number:\n",
    "\t\t\t\t\tactivations = activation_function(preactivations)\n",
    "\t\t\t\telse:\n",
    "\t\t\t\t\tactivations = linear(preactivations)\n",
    "\n",
    "\t\t\terror[j] = np.mean((Y - activations)**2)\n",
    "\n",
    "\t\treturn error\n",
    "\t\n",
    "\tdef mutate(self, mutation_prob, mutation_step):\n",
    "\t\tspeciment_choice = np.random.choice(self.population_size, size=int(mutation_prob*self.population_size))\n",
    "\t\tmutation_type = np.random.randint(0, 2, size=len(speciment_choice))\n",
    "\t\tlayer_choice = np.random.randint(0, self.layers_number, size=len(speciment_choice))\n",
    "\t\tmutation_size = np.random.uniform(0, mutation_step, size=len(speciment_choice))\n",
    "\n",
    "\t\tfor i in range(len(speciment_choice)):\n",
    "\t\t\tmatrix = self.population[speciment_choice[i]][mutation_type[i]][layer_choice[i]]\n",
    "\t\t\tindex = np.random.randint(matrix.shape)\n",
    "\t\t\tmatrix[index[0], index[1]] += mutation_size[i]\n",
    "\n",
    "\tdef check_fitness(self, error):\n",
    "\t\treturn np.abs(error - np.max(error))\n",
    "\n",
    "\tdef selection(self, error, selection_type, elite_ratio=None, draft_size=None):\n",
    "\t\tdef elite(fitness, elite_ratio):\n",
    "\t\t\tranks = np.argsort(-fitness)\n",
    "\t\t\tordered_population = [self.population[i] for i in ranks]\n",
    "\t\t\telite_size = int(self.population_size * elite_ratio)\n",
    "\t\t\trest_fitness = fitness[elite_size:]\n",
    "\n",
    "\t\t\treturn ordered_population[:elite_size], ordered_population[elite_size:], rest_fitness\n",
    "\t\t\n",
    "\t\tdef roulette(fitness, population):\n",
    "\t\t\tpopulation_size = len(population)\n",
    "\t\t\tprob = fitness / (np.sum(fitness) + np.finfo(float).eps)\n",
    "\n",
    "\t\t\tparent_A_idx = np.random.choice(population_size, size=population_size, p=prob)\n",
    "\t\t\tparent_B_idx = np.random.choice(population_size, size=population_size, p=prob)\n",
    "\n",
    "\t\t\tparent_A = [population[i] for i in parent_A_idx]\n",
    "\t\t\tparent_B = [population[i] for i in parent_B_idx]\n",
    "\n",
    "\t\t\treturn parent_A, parent_B\n",
    "\t\t\n",
    "\t\tdef rank(fitness, population):\n",
    "\t\t\tpopulation_size = len(population)\n",
    "\t\t\tcutoff = 0.5\n",
    "\t\t\tgrace = 0.2\n",
    "\t\t\tprob_lambda = -np.log(grace)/(cutoff*self.population_size)\n",
    "\n",
    "\t\t\tranks = np.argsort(-fitness)\n",
    "\t\t\tordered_population = [population[i] for i in ranks]\n",
    "\t\t\tpositions = np.arange(population_size)\n",
    "\t\t\tprob = np.exp(-prob_lambda*positions)\n",
    "\t\t\tprob /= np.sum(prob)\n",
    "\n",
    "\t\t\tparent_A_idx = np.random.choice(population_size, size=population_size, p=prob)\n",
    "\t\t\tparent_B_idx = np.random.choice(population_size, size=population_size, p=prob)\n",
    "\n",
    "\t\t\tparent_A = [ordered_population[i] for i in parent_A_idx]\n",
    "\t\t\tparent_B = [ordered_population[i] for i in parent_B_idx]\n",
    "\n",
    "\t\t\treturn parent_A, parent_B\n",
    "\n",
    "\t\tdef tournament(fitness, population, draft_size):\n",
    "\t\t\tpopulation_size = len(population)\n",
    "\n",
    "\t\t\tcandidate_A = np.random.choice(population_size, size=(population_size, draft_size))\n",
    "\t\t\tcandidate_B = np.random.choice(population_size, size=(population_size, draft_size))\n",
    "\t\t\t\n",
    "\t\t\tbest_candidate_A = np.argmax(fitness[candidate_A], axis=1)\n",
    "\t\t\tbest_candidate_B = np.argmax(fitness[candidate_B], axis=1)\n",
    "\n",
    "\t\t\tbest_candidate_A_idx = candidate_A[np.arange(len(candidate_A)), best_candidate_A]\n",
    "\t\t\tbest_candidate_B_idx = candidate_B[np.arange(len(candidate_B)), best_candidate_B]\n",
    "\n",
    "\t\t\tparent_A = [population[i] for i in best_candidate_A_idx]\n",
    "\t\t\tparent_B = [population[i] for i in best_candidate_B_idx]\n",
    "\n",
    "\t\t\treturn parent_A, parent_B\n",
    "\t\t\n",
    "\t\tfitness = self.check_fitness(error)\n",
    "\t\tif elite_ratio != None:\n",
    "\t\t\telite_parents, rest_population, fitness = elite(fitness, elite_ratio)\n",
    "\t\t\tmatch selection_type:\n",
    "\t\t\t\tcase 'roulette':\n",
    "\t\t\t\t\tparents_A, parents_B = roulette(fitness, rest_population)\n",
    "\t\t\t\t\tparents_A += elite_parents\n",
    "\t\t\t\t\tparents_B += elite_parents\n",
    "\t\t\t\tcase 'tournament':\n",
    "\t\t\t\t\tparents_A, parents_B = tournament(fitness, rest_population, draft_size)\n",
    "\t\t\t\t\tparents_A += elite_parents\n",
    "\t\t\t\t\tparents_B += elite_parents\n",
    "\t\t\t\tcase 'rank':\n",
    "\t\t\t\t\tparents_A, parents_B = rank(fitness, rest_population)\n",
    "\t\t\t\t\tparents_A += elite_parents\n",
    "\t\t\t\t\tparents_B += elite_parents\n",
    "\t\telse:\n",
    "\t\t\tmatch selection_type:\n",
    "\t\t\t\tcase 'roulette':\n",
    "\t\t\t\t\tparents_A, parents_B = roulette(fitness, self.population)\n",
    "\t\t\t\tcase 'tournament':\n",
    "\t\t\t\t\tparents_A, parents_B = tournament(fitness, self.population, draft_size)\n",
    "\t\t\t\tcase 'rank':\n",
    "\t\t\t\t\tparents_A, parents_B = rank(fitness, self.population)\n",
    "\n",
    "\t\treturn (parents_A, parents_B)\n",
    "\n",
    "\tdef crossbreed(self, parents_A, parents_B):\n",
    "\t\tchildren = [None] * self.population_size\n",
    "\n",
    "\t\tfor i in range(self.population_size):\n",
    "\t\t\tweights_child = [None] * self.layers_number\n",
    "\t\t\tbiases_child = [None] * self.layers_number\n",
    "\n",
    "\t\t\tfor j in range(self.layers_number):\n",
    "\t\t\t\tweights_A = parents_A[i][0][j]\n",
    "\t\t\t\tbiases_A = parents_A[i][1][j]\n",
    "\t\t\t\tweights_B = parents_B[i][0][j]\n",
    "\t\t\t\tbiases_B = parents_B[i][1][j]\n",
    "\n",
    "\t\t\t\tweights_mask = np.random.randint(0, 2, size=weights_A.shape)\n",
    "\t\t\t\tbiases_mask = np.random.randint(0, 2, size=biases_A.shape)\n",
    "\n",
    "\t\t\t\tweights_child[j] = np.where(weights_mask, weights_A, weights_B)\n",
    "\t\t\t\tbiases_child[j] = np.where(biases_mask, biases_A, biases_B)\n",
    "\n",
    "\t\t\tchildren[i] = (weights_child, biases_child)\n",
    "\n",
    "\t\treturn children\n",
    "\n",
    "def grid_search(param_grid, X, Y):\n",
    "\tbest_speciment_record = []\n",
    "\terror_history_record = []\n",
    "\n",
    "\tfor config in tqdm(param_grid, desc='Progress'):\n",
    "\t\t(architecture,\n",
    "\t\tpopulation_size,\n",
    "\t\tinitiation_method,\n",
    "\t\trequired_error,\n",
    "\t\titerations_num,\n",
    "\t\tactivation_function,\n",
    "\t\tmutation_step,\n",
    "\t\tmutation_prob,\n",
    "\t\tselection_type,\n",
    "\t\telite_ratio,\n",
    "\t\tdraft_size) = config\n",
    "\t\t\n",
    "\t\trun = genetic_network(architecture, population_size, initiation_method)\n",
    "\n",
    "\t\terror_history, best_speciment = run.evolve(\n",
    "\t\t\tX = X,\n",
    "\t\t\tY = Y,\n",
    "\t\t\titerations_num = iterations_num,\n",
    "\t\t\trequired_error = required_error,\n",
    "\t\t\tactivation_function = activation_function,\n",
    "\t\t\tmutation_step = mutation_step,\n",
    "\t\t\tmutation_prob = mutation_prob,\n",
    "\t\t\tselection_type = selection_type,\n",
    "\t\t\telite_ratio = elite_ratio,\n",
    "\t\t\tdraft_size = draft_size,\n",
    "\t\t\tshow_progess = False)\n",
    "\t\t\n",
    "\t\terror_history_record.append(error_history)\n",
    "\t\tbest_speciment_record.append(best_speciment)\n",
    "\n",
    "\treturn error_history_record, best_speciment_record\n",
    "\n",
    "def plot_error_history(error_history):\n",
    "\terror_history = [x for x in error_history if x is not None]\n",
    "\tprint('best error', np.min(error_history))\n",
    "\n",
    "\tx = np.arange(0, len(error_history), 1)\n",
    "\tplt.plot(x, error_history, label='best', color='red')\n",
    "\tplt.xlabel('Iterations')\n",
    "\tplt.ylabel('Error')\n",
    "\tplt.title('Mean and best score in iterations')\n",
    "\tplt.legend()\n",
    "\tplt.grid(True)\n",
    "\tplt.show()\n",
    "\n",
    "def visualize_speciment(architecture, speciment):\n",
    "\tweights = speciment[0]\n",
    "\t# biases = speciment[1]\n",
    "\tG = nx.DiGraph()\n",
    "\tpos = {}\n",
    "\tedge_colors = []\n",
    "\tedge_widths = []\n",
    "\n",
    "\tfor layer_idx, num_nodes in enumerate(architecture):\n",
    "\t\tfor node_idx in range(num_nodes):\n",
    "\t\t\tnode_name = f\"L{layer_idx}_N{node_idx}\"\n",
    "\t\t\tpos[node_name] = (layer_idx, -node_idx)  \n",
    "\t\t\tG.add_node(node_name)\n",
    "\t\t\t\n",
    "\t\t\tif layer_idx > 0:\n",
    "\t\t\t\tfor prev_idx in range(architecture[layer_idx - 1]):\n",
    "\t\t\t\t\tprev_name = f\"L{layer_idx-1}_N{prev_idx}\"\n",
    "\t\t\t\t\tweight = weights[layer_idx-1][prev_idx][node_idx]\n",
    "\n",
    "\t\t\t\t\tif weight != 0:\n",
    "\t\t\t\t\t\tG.add_edge(prev_name, node_name)\n",
    "\t\t\t\t\t\tedge_colors.append('red' if weight < 0 else 'green')\n",
    "\t\t\t\t\t\tedge_widths.append(np.log(abs(weight)))\n",
    "\n",
    "\tplt.figure(figsize=(10, 5))\n",
    "\tnx.draw(G, pos, with_labels=True, node_size=700, node_color=\"skyblue\", edge_color=edge_colors, width=edge_widths)\n",
    "\tplt.show()\n",
    "\n",
    "def standardize_data(data):\n",
    "\tmean = np.mean(data, axis=0)\n",
    "\tstd = np.std(data, axis=0)\n",
    "\tnew_data = (data - mean) / std\n",
    "\n",
    "\treturn new_data, mean, std\n",
    "\n",
    "def destandardize_data(data, mean, std):\n",
    "\treturn data * std + mean"
   ]
  },
  {
   "cell_type": "markdown",
   "id": "97c92a92",
   "metadata": {},
   "source": [
    "# IRIS"
   ]
  },
  {
   "cell_type": "code",
   "execution_count": 156,
   "id": "17c61e64",
   "metadata": {},
   "outputs": [],
   "source": [
    "iris = pd.read_csv(\"../data/iris/iris.data\", header=None).to_numpy()\n",
    "iris_X = iris[:, (0,1,2,3)]\n",
    "iris_Y = iris[:, 4]\n",
    "iris_dict = {label: idx for idx, label in enumerate(np.unique(iris_Y))}\n",
    "iris_Y = [iris_dict[label] for label in iris_Y]"
   ]
  },
  {
   "cell_type": "code",
   "execution_count": 189,
   "id": "0042299c",
   "metadata": {},
   "outputs": [
    {
     "name": "stderr",
     "output_type": "stream",
     "text": [
      "100%|██████████| 100/100 [00:34<00:00,  2.89it/s]\n"
     ]
    }
   ],
   "source": [
    "iris_algo = genetic_network(architecture=[4, 5, 1], \n",
    "                       population_size=100, \n",
    "                       initiation_method='he')\n",
    "\n",
    "iris_error_history, iris_best_speciment = iris_algo.evolve(X = iris_X,\n",
    "            Y = iris_Y,\n",
    "            iterations_num = 100,\n",
    "            required_error = 0.01,\n",
    "            activation_function = sigmoid,\n",
    "            mutation_step = 0.1,\n",
    "            mutation_prob = 0.5,\n",
    "            selection_type = 'roulette',\n",
    "            elite_ratio = 0.1,\n",
    "            draft_size = None,\n",
    "            show_progess = True)"
   ]
  },
  {
   "cell_type": "code",
   "execution_count": 190,
   "id": "0d59da85",
   "metadata": {},
   "outputs": [
    {
     "name": "stdout",
     "output_type": "stream",
     "text": [
      "best error 0.6675687721427329\n"
     ]
    },
    {
     "data": {
      "image/png": "[encoded data removed]",
      "text/plain": [
       "<Figure size 640x480 with 1 Axes>"
      ]
     },
     "metadata": {},
     "output_type": "display_data"
    }
   ],
   "source": [
    "plot_error_history(iris_error_history)\n",
    "# visualize_speciment(iris_algo.architecture, best_speciment)"
   ]
  },
  {
   "cell_type": "markdown",
   "id": "323b006c",
   "metadata": {},
   "source": [
    "# AUTO MPG"
   ]
  },
  {
   "cell_type": "code",
   "execution_count": 176,
   "id": "0992c02e",
   "metadata": {},
   "outputs": [],
   "source": [
    "autoMPG = pd.read_csv(\"../data/auto-mpg/auto-mpg.csv\").to_numpy()\n",
    "autoMPG_X = autoMPG[:, range(1,8)]\n",
    "mask = np.any(autoMPG_X == '?', axis=1)\n",
    "autoMPG_X = autoMPG_X[~mask].astype(float)\n",
    "autoMPG_Y = autoMPG[:, 0].astype(float)\n",
    "\n",
    "autoMPG_X_stand, mean, std = standardize_data(autoMPG_X)\n",
    "# autoMPG_Y_stand, mean, std = standardize_data(autoMPG_Y)"
   ]
  },
  {
   "cell_type": "code",
   "execution_count": 186,
   "id": "da74ef31",
   "metadata": {},
   "outputs": [
    {
     "name": "stderr",
     "output_type": "stream",
     "text": [
      "100%|██████████| 1000/1000 [00:50<00:00, 19.81it/s]\n"
     ]
    }
   ],
   "source": [
    "mpg_algo = genetic_network(architecture=[7, 5, 5, 1], \n",
    "                       population_size=100, \n",
    "                       initiation_method='he')\n",
    "\n",
    "mpg_error_history, mpg_best_speciment = mpg_algo.evolve(X = autoMPG_X_stand,\n",
    "            Y = autoMPG_Y,\n",
    "            iterations_num = 1000,\n",
    "            required_error = 10,\n",
    "            activation_function = sigmoid,\n",
    "            mutation_step = 0.1,\n",
    "            mutation_prob = 0.5,\n",
    "            selection_type = 'roulette',\n",
    "            elite_ratio = 0.1,\n",
    "            draft_size = 3,\n",
    "            show_progess=True)"
   ]
  },
  {
   "cell_type": "code",
   "execution_count": 187,
   "id": "c32898c3",
   "metadata": {},
   "outputs": [
    {
     "name": "stdout",
     "output_type": "stream",
     "text": [
      "best error 567.8425035342684\n"
     ]
    },
    {
     "data": {
      "image/png": "[encoded data removed]",
      "text/plain": [
       "<Figure size 640x480 with 1 Axes>"
      ]
     },
     "metadata": {},
     "output_type": "display_data"
    }
   ],
   "source": [
    "plot_error_history(mpg_error_history)\n",
    "# visualize_speciment(mpg_algo.architecture, mpg_best_speciment)"
   ]
  },
  {
   "cell_type": "markdown",
   "id": "12d2c00e",
   "metadata": {},
   "source": [
    "# MULTIMODAL LARGE"
   ]
  },
  {
   "cell_type": "code",
   "execution_count": 113,
   "id": "91cad459",
   "metadata": {},
   "outputs": [],
   "source": [
    "mml_train = pd.read_csv('../data/regression/multimodal-large-training.csv')[['x', 'y']]\n",
    "mml_test = pd.read_csv('../data/regression/multimodal-large-test.csv')[['x', 'y']]\n",
    "\n",
    "mml_train_X = np.array(mml_train['x']).reshape(10000 ,1)\n",
    "mml_train_Y = np.array(mml_train['y']).reshape(10000 ,1)\n",
    "\n",
    "mml_test_X = np.array(mml_test['x']).reshape(1000 ,1)\n",
    "mml_test_Y = np.array(mml_test['y']).reshape(1000 ,1)\n",
    "\n",
    "mml_train_X_stand, mean, std = standardize_data(mml_train_X)\n",
    "# autoMPG_Y_stand, mean, std = standardize_data(autoMPG_Y)"
   ]
  },
  {
   "cell_type": "code",
   "execution_count": 191,
   "id": "faece46d",
   "metadata": {},
   "outputs": [
    {
     "name": "stderr",
     "output_type": "stream",
     "text": [
      "100%|██████████| 1000/1000 [20:22<00:00,  1.22s/it]\n"
     ]
    }
   ],
   "source": [
    "mml_algo = genetic_network(architecture=[1, 15, 15, 1], \n",
    "                       population_size=100, \n",
    "                       initiation_method='he')\n",
    "\n",
    "mml_error_history, mml_best_speciment = mml_algo.evolve(X = mml_train_X_stand,\n",
    "            Y = mml_train_Y,\n",
    "            iterations_num = 1000,\n",
    "            required_error = 0.1,\n",
    "            activation_function = sigmoid,\n",
    "            mutation_step = 0.1,\n",
    "            mutation_prob = 0.5,\n",
    "            selection_type = 'roulette',\n",
    "            elite_ratio = 0.1,\n",
    "            draft_size = None)"
   ]
  },
  {
   "cell_type": "code",
   "execution_count": 193,
   "id": "91f8ce57",
   "metadata": {},
   "outputs": [
    {
     "name": "stdout",
     "output_type": "stream",
     "text": [
      "best error 5331.760163502082\n"
     ]
    },
    {
     "data": {
      "image/png": "[encoded data removed]",
      "text/plain": [
       "<Figure size 640x480 with 1 Axes>"
      ]
     },
     "metadata": {},
     "output_type": "display_data"
    }
   ],
   "source": [
    "plot_error_history(mml_error_history)\n",
    "# visualize_speciment(mml_algo.architecture, mml_best_speciment)"
   ]
  }
 ],
 "metadata": {
  "kernelspec": {
   "display_name": "Python 3",
   "language": "python",
   "name": "python3"
  },
  "language_info": {
   "codemirror_mode": {
    "name": "ipython",
    "version": 3
   },
   "file_extension": ".py",
   "mimetype": "text/x-python",
   "name": "python",
   "nbconvert_exporter": "python",
   "pygments_lexer": "ipython3",
   "version": "3.12.8"
  }
 },
 "nbformat": 4,
 "nbformat_minor": 5
}
